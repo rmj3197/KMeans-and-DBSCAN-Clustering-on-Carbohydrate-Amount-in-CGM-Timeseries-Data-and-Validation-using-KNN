{
 "cells": [
  {
   "cell_type": "markdown",
   "metadata": {},
   "source": [
    "# Raktim Mukhopadhyay 1217167380"
   ]
  },
  {
   "cell_type": "code",
   "execution_count": 1,
   "metadata": {},
   "outputs": [],
   "source": [
    "import pandas as pd\n",
    "import csv\n",
    "import numpy as np\n",
    "from collections import Counter \n",
    "import matplotlib.pyplot as plt\n",
    "import warnings\n",
    "warnings.filterwarnings('ignore')\n",
    "import io\n",
    "pd.set_option('display.max_columns', None)\n",
    "from statistics import mean\n",
    "from sklearn.model_selection import KFold\n",
    "from sklearn.neighbors import KNeighborsClassifier\n",
    "from sklearn.metrics import accuracy_score\n",
    "from sklearn.cluster import KMeans"
   ]
  },
  {
   "cell_type": "code",
   "execution_count": 2,
   "metadata": {},
   "outputs": [],
   "source": [
    "def most_frequent(List): \n",
    "    counter = 0\n",
    "    num = List[0] \n",
    "    for i in List: \n",
    "        curr_frequency = List.count(i) \n",
    "        if(curr_frequency> counter): \n",
    "            counter = curr_frequency \n",
    "            num = i \n",
    "    return num "
   ]
  },
  {
   "cell_type": "code",
   "execution_count": 3,
   "metadata": {},
   "outputs": [],
   "source": [
    "from scipy.fftpack import fft, ifft\n",
    "def fft_and_peaks(df):\n",
    "#     df = df[0]    \n",
    "    fft_val=[]\n",
    "    fft_val.append(abs(fft(df))) \n",
    "    peak_val=[]\n",
    "    for z in range(len(fft_val)):\n",
    "        a = list(set(fft_val[z]))\n",
    "        a.sort()\n",
    "        a = a[::-1][1:5]\n",
    "        peak_val.append(a)\n",
    "    return(fft_val,peak_val)"
   ]
  },
  {
   "cell_type": "code",
   "execution_count": 4,
   "metadata": {},
   "outputs": [],
   "source": [
    "def velocity(data):\n",
    "#     data= data[0]\n",
    "    data = data.reset_index().drop(columns = 'index').T\n",
    "    mean = []\n",
    "    std =[]\n",
    "    median =[]\n",
    "    \n",
    "    interval = 10\n",
    "    for k in range(len(data)):\n",
    "        window_size = 4\n",
    "        velocity = []\n",
    "        row_data = data.iloc[k].values\n",
    "        row_length = len(row_data)\n",
    "        counter = 0\n",
    "        cgmvel = []\n",
    "        for i in range((len(row_data) - window_size)):\n",
    "            cgmvel.append(counter)\n",
    "            counter += 5\n",
    "            p = (row_data[i] - row_data[i + window_size])\n",
    "            vel = p / interval\n",
    "            velocity.append(vel)\n",
    "        mean.append(np.mean(velocity))\n",
    "        std.append(np.std(velocity))\n",
    "        median.append(np.median(velocity))\n",
    "    df = list(zip(mean, std, median))[0]\n",
    "    return df"
   ]
  },
  {
   "cell_type": "code",
   "execution_count": 5,
   "metadata": {},
   "outputs": [],
   "source": [
    "def min_max_glucose_level(df):\n",
    "    df = df\n",
    "    df = df[::-1]\n",
    "    min_val = df.iloc[5]\n",
    "    max_val = max(df.iloc[5:])\n",
    "    diff = max_val - min_val\n",
    "    return diff"
   ]
  },
  {
   "cell_type": "code",
   "execution_count": 6,
   "metadata": {},
   "outputs": [],
   "source": [
    "def full_width_at_half_maximum(df):\n",
    "    y=df\n",
    "    max_y = max(y)  # Find the maximum y value\n",
    "    xs = [x for x in range(len(y)) if y[x] > ((max(y)/2)+55)]\n",
    "    if(max(xs,default=1000)==1000):\n",
    "        width = 0\n",
    "    else:\n",
    "        width = max(xs) - min(xs)\n",
    "    return width"
   ]
  },
  {
   "cell_type": "code",
   "execution_count": 7,
   "metadata": {},
   "outputs": [],
   "source": [
    "def polyfit_coeffs(df):\n",
    "    coeff_list = []\n",
    "    y = df.to_numpy()\n",
    "    time = np.linspace(1,df.shape[0],df.shape[0])\n",
    "    coeff = np.polyfit(time,y,6)\n",
    "    coeff_list.append(coeff)\n",
    "    df1 = coeff_list[0]\n",
    "    return df1"
   ]
  },
  {
   "cell_type": "code",
   "execution_count": 8,
   "metadata": {},
   "outputs": [],
   "source": [
    "def autocorrelation(df):   \n",
    "    autocorr_lag_2=[]\n",
    "    autocorr_lag_3=[]\n",
    "    autocorr_lag_4=[]\n",
    "    autocorr_lag_5=[]\n",
    "    autocorr_lag_6=[]\n",
    "    autocorr_lag_7=[]\n",
    "    autocorr_lag_8=[]\n",
    "    autocorr_lag_9=[]\n",
    "    autocorr_lag_10=[]\n",
    "    autocorr_lag_11=[]\n",
    "    autocorr_lag_12=[]\n",
    "    autocorr_lag_13=[]\n",
    "    autocorr_lag_14=[]\n",
    "\n",
    "    auto_corr_2= df.autocorr(lag=2)\n",
    "    autocorr_lag_2.append(auto_corr_2)\n",
    "\n",
    "    auto_corr_3= df.autocorr(lag=3)\n",
    "    autocorr_lag_3.append(auto_corr_3)\n",
    "\n",
    "    auto_corr_4= df.autocorr(lag=4)\n",
    "    autocorr_lag_4.append(auto_corr_4)\n",
    "\n",
    "    auto_corr_5= df.autocorr(lag=5)\n",
    "    autocorr_lag_5.append(auto_corr_5)\n",
    "\n",
    "    auto_corr_6= df.autocorr(lag=6)\n",
    "    autocorr_lag_6.append(auto_corr_6)\n",
    "\n",
    "    auto_corr_7= df.autocorr(lag=7)\n",
    "    autocorr_lag_7.append(auto_corr_7)\n",
    "\n",
    "    auto_corr_8= df.autocorr(lag=8)\n",
    "    autocorr_lag_8.append(auto_corr_8)\n",
    "\n",
    "    auto_corr_9= df.autocorr(lag=9)\n",
    "    autocorr_lag_9.append(auto_corr_9)\n",
    "\n",
    "    auto_corr_10=df.autocorr(lag=10)\n",
    "    autocorr_lag_10.append(auto_corr_10)\n",
    "\n",
    "    auto_corr_11= df.autocorr(lag=11)\n",
    "    autocorr_lag_11.append(auto_corr_11)\n",
    "\n",
    "    auto_corr_12= df.autocorr(lag=12)\n",
    "    autocorr_lag_12.append(auto_corr_12)\n",
    "\n",
    "    auto_corr_13= df.autocorr(lag=13)\n",
    "    autocorr_lag_13.append(auto_corr_13)\n",
    "\n",
    "    auto_corr_14= df.autocorr(lag=14)\n",
    "    autocorr_lag_14.append(auto_corr_14)\n",
    "\n",
    "    df1 = list(zip(autocorr_lag_2, autocorr_lag_3,autocorr_lag_4,autocorr_lag_5,autocorr_lag_6,autocorr_lag_7,autocorr_lag_8,autocorr_lag_9,autocorr_lag_10,autocorr_lag_11,autocorr_lag_12,autocorr_lag_13,autocorr_lag_14))[0]\n",
    "    return (df1)"
   ]
  },
  {
   "cell_type": "code",
   "execution_count": 9,
   "metadata": {},
   "outputs": [],
   "source": [
    "def file_read(filename):\n",
    "    f = open(filename)\n",
    "    csv_f = csv.reader(f)\n",
    "    data = []\n",
    "    for row in csv_f:\n",
    "        data.append(row)\n",
    "    return data"
   ]
  },
  {
   "cell_type": "code",
   "execution_count": 10,
   "metadata": {},
   "outputs": [],
   "source": [
    "def calculate_features(data):   \n",
    "    fft_peak_val =[]\n",
    "    cgm_vel = []\n",
    "    index_list = []\n",
    "    amplitude_list =[]\n",
    "    width_list = []\n",
    "    polyfit_coeff=[]\n",
    "    auto_corr=[]\n",
    "\n",
    "    for i in range(len(data)):\n",
    "        intermediate = pd.DataFrame(data[i]).reset_index().drop(columns = 'index')\n",
    "        each_row = pd.to_numeric(intermediate[0],errors='coerce').interpolate().dropna().reset_index().drop(columns='index')[0]\n",
    "        \n",
    "        if(len(each_row)>=15):\n",
    "            ampl = min_max_glucose_level(each_row)\n",
    "            amplitude_list.append(ampl)\n",
    "            \n",
    "            x,y = fft_and_peaks(each_row)\n",
    "            fft_peak_val.append(y[0])\n",
    "            \n",
    "            v = velocity(each_row)\n",
    "            cgm_vel.append(v)\n",
    "            \n",
    "            width = full_width_at_half_maximum(each_row)\n",
    "            width_list.append(width)\n",
    "            \n",
    "            p = polyfit_coeffs(each_row)\n",
    "            polyfit_coeff.append(p)\n",
    "            \n",
    "            acr = autocorrelation(each_row)\n",
    "            auto_corr.append(acr)\n",
    "            \n",
    "            \n",
    "        elif(len(each_row)<10):\n",
    "            index_list.append(i)\n",
    "\n",
    "    peak_val = pd.DataFrame(list(fft_peak_val),columns = ['Peak 2','Peak 3','Peak 4','Peak 5'])\n",
    "    cgm_vel_val = pd.DataFrame(cgm_vel,columns=['vel_Mean','vel_STD','vel_Median'])\n",
    "    ampl_val = pd.DataFrame(amplitude_list,columns=['Min_Max Diff'])\n",
    "    width_val = pd.DataFrame(width_list,columns=['FWHM'])\n",
    "    polyfit_val = pd.DataFrame(polyfit_coeff,columns=['coeff1','coeff2','coeff3','coeff4','coeff5','coeff6','coeff7'])\n",
    "    autocorr_val = pd.DataFrame(auto_corr,columns=['autocorr_lag_2', 'autocorr_lag_3','autocorr_lag_4','autocorr_lag_5','autocorr_lag_6','autocorr_lag_7','autocorr_lag_8','autocorr_lag_9','autocorr_lag_10','autocorr_lag_11','autocorr_lag_12','autocorr_lag_13','autocorr_lag_14']) \n",
    "    \n",
    "    dataset = pd.concat([cgm_vel_val,ampl_val,width_val,peak_val,polyfit_val],axis=1).fillna(0)\n",
    "    return(dataset,index_list)"
   ]
  },
  {
   "cell_type": "markdown",
   "metadata": {},
   "source": [
    "# Reading Meal Data and Calculating the features"
   ]
  },
  {
   "cell_type": "code",
   "execution_count": 11,
   "metadata": {},
   "outputs": [],
   "source": [
    "meal_pat1 = file_read('mealData1.csv')\n",
    "features_meal_pat1,indices_1 = calculate_features(meal_pat1)"
   ]
  },
  {
   "cell_type": "code",
   "execution_count": 12,
   "metadata": {},
   "outputs": [],
   "source": [
    "meal_pat2 = file_read('mealData2.csv')\n",
    "features_meal_pat2,indices_2 = calculate_features(meal_pat2)"
   ]
  },
  {
   "cell_type": "code",
   "execution_count": 13,
   "metadata": {},
   "outputs": [],
   "source": [
    "meal_pat3 = file_read('mealData3.csv')\n",
    "features_meal_pat3,indices_3 = calculate_features(meal_pat3)"
   ]
  },
  {
   "cell_type": "code",
   "execution_count": 14,
   "metadata": {},
   "outputs": [],
   "source": [
    "meal_pat4 = file_read('mealData4.csv')\n",
    "features_meal_pat4,indices_4 = calculate_features(meal_pat4)"
   ]
  },
  {
   "cell_type": "code",
   "execution_count": 15,
   "metadata": {},
   "outputs": [],
   "source": [
    "meal_pat5 = file_read('mealData5.csv')\n",
    "features_meal_pat5,indices_5 = calculate_features(meal_pat5)"
   ]
  },
  {
   "cell_type": "code",
   "execution_count": 16,
   "metadata": {},
   "outputs": [],
   "source": [
    "carb_levels_pat1 = pd.read_csv('mealAmountData1.csv',header=None)[0:51].rename(columns={0:'Carb Level'})\n",
    "carb_levels_pat2 = pd.read_csv('mealAmountData2.csv',header=None)[0:51].rename(columns={0:'Carb Level'})\n",
    "carb_levels_pat3 = pd.read_csv('mealAmountData3.csv',header=None)[0:51].rename(columns={0:'Carb Level'})\n",
    "carb_levels_pat4 = pd.read_csv('mealAmountData4.csv',header=None)[0:51].rename(columns={0:'Carb Level'})\n",
    "carb_levels_pat5 = pd.read_csv('mealAmountData5.csv',header=None)[0:51].rename(columns={0:'Carb Level'})"
   ]
  },
  {
   "cell_type": "code",
   "execution_count": 17,
   "metadata": {},
   "outputs": [],
   "source": [
    "carb_levels_pat1=carb_levels_pat1.drop(indices_1).reset_index().drop(columns=['index'])\n",
    "carb_levels_pat2=carb_levels_pat2.drop(indices_2).reset_index().drop(columns=['index'])\n",
    "carb_levels_pat3=carb_levels_pat3.drop(indices_3).reset_index().drop(columns=['index'])\n",
    "carb_levels_pat4=carb_levels_pat4.drop(indices_4).reset_index().drop(columns=['index'])\n",
    "carb_levels_pat5=carb_levels_pat5.drop(indices_5).reset_index().drop(columns=['index'])"
   ]
  },
  {
   "cell_type": "code",
   "execution_count": 18,
   "metadata": {},
   "outputs": [],
   "source": [
    "meal_data = pd.concat([features_meal_pat1,features_meal_pat2,features_meal_pat3,features_meal_pat4,features_meal_pat5],axis=0).reset_index().drop(columns=['index'])"
   ]
  },
  {
   "cell_type": "code",
   "execution_count": 19,
   "metadata": {},
   "outputs": [],
   "source": [
    "carb_levels = pd.concat([carb_levels_pat1,carb_levels_pat2,carb_levels_pat3,carb_levels_pat4,carb_levels_pat5],axis=0).reset_index().drop(columns=['index'])"
   ]
  },
  {
   "cell_type": "code",
   "execution_count": 20,
   "metadata": {},
   "outputs": [],
   "source": [
    "dataset = pd.concat([meal_data,carb_levels],axis=1)"
   ]
  },
  {
   "cell_type": "code",
   "execution_count": 21,
   "metadata": {},
   "outputs": [],
   "source": [
    "def create_bin(x):\n",
    "    if (x==0):\n",
    "        x=1\n",
    "    elif ((x>0) and (x<=20)):\n",
    "        x = 2\n",
    "    elif((x>=21) and (x<=40)):\n",
    "        x = 3\n",
    "    elif((x>=41) and (x<=60)):\n",
    "        x = 4\n",
    "    elif((x>=61) and (x<=80)):\n",
    "        x = 5\n",
    "    elif((x>=81) and (x<=100)):\n",
    "        x = 6\n",
    "    elif((x>=101) and (x<=120)):\n",
    "        x = 7\n",
    "    elif((x>=121) and (x<=140)):\n",
    "        x = 8\n",
    "    else:\n",
    "        pass\n",
    "    return x"
   ]
  },
  {
   "cell_type": "code",
   "execution_count": 22,
   "metadata": {},
   "outputs": [],
   "source": [
    "dataset['Carb Level'] = dataset['Carb Level'].apply(create_bin)"
   ]
  },
  {
   "cell_type": "code",
   "execution_count": 23,
   "metadata": {},
   "outputs": [],
   "source": [
    "dataset_for_clustering = dataset.drop(columns=['Carb Level'])"
   ]
  },
  {
   "cell_type": "code",
   "execution_count": 24,
   "metadata": {},
   "outputs": [],
   "source": [
    "from sklearn.decomposition import PCA\n",
    "from sklearn.preprocessing import StandardScaler\n",
    "from scipy import stats\n",
    "feature_matrix = StandardScaler().fit_transform(dataset_for_clustering)\n",
    "pca = PCA(n_components=5)\n",
    "principalComponents = pca.fit_transform(feature_matrix)\n",
    "principalDf = pd.DataFrame(data = principalComponents, columns = ['principal component 1', 'principal component 2','principal component 3','principal component 4','principal component 5'])"
   ]
  },
  {
   "cell_type": "markdown",
   "metadata": {},
   "source": [
    "# K-Means Clustering"
   ]
  },
  {
   "cell_type": "code",
   "execution_count": 25,
   "metadata": {},
   "outputs": [],
   "source": [
    "original_bin_ = dataset['Carb Level'].reset_index().drop(columns='index').rename(columns={'Carb Level':'Original Label'})"
   ]
  },
  {
   "cell_type": "code",
   "execution_count": 26,
   "metadata": {},
   "outputs": [],
   "source": [
    "def label_reassignment(kmeans_labels,original_bin_labels):\n",
    "    \n",
    "    data_labels_after_kmeans = kmeans_labels\n",
    "    data_labels_before_kmeans = original_bin_labels\n",
    "    \n",
    "    label_0 = []\n",
    "    label_1 = []\n",
    "    label_2 = []\n",
    "    label_3 = []\n",
    "    label_4 = []\n",
    "    label_5 = []\n",
    "\n",
    "    for i in range(data_labels_after_kmeans.shape[0]):\n",
    "        if (list(data_labels_after_kmeans.iloc[i])[0] == 0):\n",
    "            label_0.append(i)\n",
    "        elif (list(data_labels_after_kmeans.iloc[i])[0] == 1):\n",
    "            label_1.append(i)\n",
    "        elif (list(data_labels_after_kmeans.iloc[i])[0] == 2):\n",
    "            label_2.append(i)\n",
    "        elif (list(data_labels_after_kmeans.iloc[i])[0] == 3):\n",
    "            label_3.append(i)\n",
    "        elif (list(data_labels_after_kmeans.iloc[i])[0] == 4):\n",
    "            label_4.append(i)\n",
    "        elif (list(data_labels_after_kmeans.iloc[i])[0] == 5):\n",
    "            label_5.append(i)\n",
    "        else:\n",
    "            pass\n",
    "    \n",
    "    orig_lable_cluster_0 = []\n",
    "    orig_lable_cluster_1 = []\n",
    "    orig_lable_cluster_2 = []\n",
    "    orig_lable_cluster_3 = []\n",
    "    orig_lable_cluster_4 = []\n",
    "    orig_lable_cluster_5 = []\n",
    "    for i in label_0:\n",
    "        orig_lable_cluster_0.append(list(data_labels_before_kmeans.iloc[i])[0])\n",
    "    for i in label_1:\n",
    "        orig_lable_cluster_1.append(list(data_labels_before_kmeans.iloc[i])[0])\n",
    "    for i in label_2:\n",
    "        orig_lable_cluster_2.append(list(data_labels_before_kmeans.iloc[i])[0])\n",
    "    for i in label_3:\n",
    "        orig_lable_cluster_3.append(list(data_labels_before_kmeans.iloc[i])[0])\n",
    "    for i in label_4:\n",
    "        orig_lable_cluster_4.append(list(data_labels_before_kmeans.iloc[i])[0])\n",
    "    for i in label_5:\n",
    "        orig_lable_cluster_5.append(list(data_labels_before_kmeans.iloc[i])[0])\n",
    "    \n",
    "    frame_for_accuracy = data_labels_before_kmeans\n",
    "    frame_for_accuracy['KMeans Labels Reassigned'] = 0\n",
    "    \n",
    "    for i in label_0:\n",
    "        frame_for_accuracy['KMeans Labels Reassigned'].iloc[i] = most_frequent(orig_lable_cluster_0)\n",
    "    for i in label_1:\n",
    "        frame_for_accuracy['KMeans Labels Reassigned'].iloc[i] = most_frequent(orig_lable_cluster_1)\n",
    "    for i in label_2:\n",
    "        frame_for_accuracy['KMeans Labels Reassigned'].iloc[i] = most_frequent(orig_lable_cluster_2)\n",
    "    for i in label_3:\n",
    "        frame_for_accuracy['KMeans Labels Reassigned'].iloc[i] = most_frequent(orig_lable_cluster_3)\n",
    "    for i in label_4:\n",
    "        frame_for_accuracy['KMeans Labels Reassigned'].iloc[i] = most_frequent(orig_lable_cluster_4)\n",
    "    for i in label_5:\n",
    "        frame_for_accuracy['KMeans Labels Reassigned'].iloc[i] = most_frequent(orig_lable_cluster_5)\n",
    "    \n",
    "    return (frame_for_accuracy['KMeans Labels Reassigned'])"
   ]
  },
  {
   "cell_type": "markdown",
   "metadata": {},
   "source": [
    "# K-Fold Cross Validation and KNN"
   ]
  },
  {
   "cell_type": "code",
   "execution_count": 27,
   "metadata": {},
   "outputs": [],
   "source": [
    "def kfold_knn_accuracy(principalDf,original_bin_labels):\n",
    "    accuracy_list = []\n",
    "    principalDfData = principalDf\n",
    "    kfold = KFold(n_splits=20,shuffle=False)\n",
    "    for train_index, test_index in kfold.split(principalDfData):\n",
    "        X_train,X_test= principalDfData.loc[train_index],principalDfData.loc[test_index]\n",
    "        y_train,y_test = original_bin_labels.loc[train_index],original_bin_labels.loc[test_index]\n",
    "\n",
    "        kmeans = KMeans(n_clusters= 6 , random_state=100).fit(X_train)\n",
    "        kmeans_labels = pd.DataFrame(kmeans.labels_).rename(columns={0:'KMeans-Label'})\n",
    "        reassigned_labels = label_reassignment(kmeans_labels,y_train)\n",
    "        knn = KNeighborsClassifier(n_neighbors=35,metric='minkowski')\n",
    "        knn.fit(X_train, reassigned_labels)\n",
    "        y_predict = knn.predict(X_test)\n",
    "\n",
    "        accuracy_list.append((accuracy_score(y_test, y_predict)))\n",
    "    return (mean(accuracy_list))"
   ]
  },
  {
   "cell_type": "code",
   "execution_count": 28,
   "metadata": {},
   "outputs": [
    {
     "name": "stdout",
     "output_type": "stream",
     "text": [
      "The average accuracy in (KMEANS) K-Fold KNN is 0.24326923076923077\n"
     ]
    }
   ],
   "source": [
    "print('The average accuracy in (KMEANS) K-Fold KNN is',kfold_knn_accuracy(principalDf,original_bin_))"
   ]
  },
  {
   "cell_type": "code",
   "execution_count": 29,
   "metadata": {},
   "outputs": [
    {
     "data": {
      "text/plain": [
       "KNeighborsClassifier(algorithm='auto', leaf_size=30, metric='minkowski',\n",
       "                     metric_params=None, n_jobs=None, n_neighbors=35, p=2,\n",
       "                     weights='uniform')"
      ]
     },
     "execution_count": 29,
     "metadata": {},
     "output_type": "execute_result"
    }
   ],
   "source": [
    "X_train, y_train = principalDf,original_bin_\n",
    "kmeans = KMeans(n_clusters= 6 , random_state=42).fit(X_train)\n",
    "kmeans_labels = pd.DataFrame(kmeans.labels_).rename(columns={0:'KMeans-Label'})\n",
    "reassigned_labels = label_reassignment(kmeans_labels,y_train)\n",
    "knn = KNeighborsClassifier(n_neighbors=35,metric='minkowski')\n",
    "knn.fit(X_train, reassigned_labels)"
   ]
  },
  {
   "cell_type": "markdown",
   "metadata": {},
   "source": [
    "# Pickling the Model"
   ]
  },
  {
   "cell_type": "code",
   "execution_count": 30,
   "metadata": {},
   "outputs": [
    {
     "data": {
      "text/plain": [
       "['KMeans_KNN.pickle']"
      ]
     },
     "execution_count": 30,
     "metadata": {},
     "output_type": "execute_result"
    }
   ],
   "source": [
    "from joblib import dump, load\n",
    "dump(knn, 'KMeans_KNN.pickle')"
   ]
  },
  {
   "cell_type": "markdown",
   "metadata": {},
   "source": [
    "# DBSCAN"
   ]
  },
  {
   "cell_type": "code",
   "execution_count": null,
   "metadata": {},
   "outputs": [],
   "source": []
  },
  {
   "cell_type": "code",
   "execution_count": 31,
   "metadata": {},
   "outputs": [],
   "source": [
    "def dbscan_kfold(principalDf,original_bin_):\n",
    "    \n",
    "    accuracy_list = []\n",
    "    kfold = KFold(n_splits=10,shuffle=False)\n",
    "    for train_index, test_index in kfold.split(principalDf):\n",
    "        X_train,X_test= principalDf.loc[train_index],principalDf.loc[test_index]\n",
    "        y_train,y_test = original_bin_.loc[train_index],original_bin_.loc[test_index]\n",
    "        \n",
    "        from sklearn.cluster import DBSCAN\n",
    "        dbscan = DBSCAN(eps=1.45, min_samples=4)\n",
    "        clusters = dbscan.fit_predict(X_train)\n",
    "        dbscan_labels = dbscan.labels_\n",
    "    \n",
    "        noise_points = [ i for i in range(len(dbscan_labels)) if dbscan_labels[i] == -1 ]\n",
    "        cluster_0 = [ i for i in range(len(dbscan_labels)) if dbscan_labels[i] == 0 ]\n",
    "        cluster_1 = [ i for i in range(len(dbscan_labels)) if dbscan_labels[i] == 1 ]\n",
    "        cluster_2 = [ i for i in range(len(dbscan_labels)) if dbscan_labels[i] == 2 ]\n",
    "        cluster_3 = [ i for i in range(len(dbscan_labels)) if dbscan_labels[i] == 3 ]\n",
    "        \n",
    "        X_train = X_train.reset_index().drop(columns=['index'])\n",
    "        y_train = y_train.reset_index().drop(columns=['index'])\n",
    "        \n",
    "        merge_cluster = noise_points + cluster_0\n",
    "        \n",
    "        merged_cluster_data = X_train.iloc[merge_cluster].reset_index().drop(columns=['index'])\n",
    "        merged_cluster_orig_bin = y_train.iloc[merge_cluster].reset_index().drop(columns=['index'])\n",
    "        \n",
    "        cluster1_data = X_train.iloc[cluster_1].reset_index().drop(columns=['index'])\n",
    "        cluster1_dbscan_labels = pd.DataFrame(dbscan.labels_[cluster_1]).rename(columns={0:'DBSCAN-Label'})\n",
    "        cluster1_orig_bin = y_train.iloc[cluster_1].reset_index().drop(columns=['index'])\n",
    "        \n",
    "        cluster2_data = X_train.iloc[cluster_2].reset_index().drop(columns=['index'])\n",
    "        cluster2_dbscan_labels = pd.DataFrame(dbscan.labels_[cluster_2]).rename(columns={0:'DBSCAN-Label'})\n",
    "        cluster2_orig_bin = y_train.iloc[cluster_2].reset_index().drop(columns=['index'])\n",
    "        \n",
    "        cluster3_data = X_train.iloc[cluster_3].reset_index().drop(columns=['index'])\n",
    "        cluster3_dbscan_labels = pd.DataFrame(dbscan.labels_[cluster_3]).rename(columns={0:'DBSCAN-Label'})\n",
    "        cluster3_orig_bin = y_train.iloc[cluster_3].reset_index().drop(columns=['index'])\n",
    "        \n",
    "        #KMeans on the merged noise points and cluster 0\n",
    "        kmeans = KMeans(n_clusters= 4 , random_state=100).fit(merged_cluster_data)\n",
    "        kmeans_labels_merged_cluster = pd.DataFrame(kmeans.labels_).rename(columns={0:'KMeans-Label'})\n",
    "        \n",
    "        reassigned_labels_merged_cluster = label_reassignment(kmeans_labels_merged_cluster,merged_cluster_orig_bin)\n",
    "        reassigned_labels_cluster1 = label_reassignment(cluster1_dbscan_labels,cluster1_orig_bin)\n",
    "        reassigned_labels_cluster2 = label_reassignment(cluster2_dbscan_labels,cluster2_orig_bin)\n",
    "        reassigned_labels_cluster3 = label_reassignment(cluster3_dbscan_labels,cluster3_orig_bin)\n",
    "        \n",
    "        reassigned_labels_all = pd.concat([reassigned_labels_merged_cluster,reassigned_labels_cluster1,reassigned_labels_cluster2,reassigned_labels_cluster3]).reset_index().drop(columns=['index'])\n",
    "        data_all = pd.concat([merged_cluster_data,cluster1_data,cluster2_data,cluster3_data]).reset_index().drop(columns=['index'])\n",
    "        \n",
    "        knn = KNeighborsClassifier(n_neighbors=35,metric='minkowski')\n",
    "        knn.fit(data_all, reassigned_labels_all)\n",
    "        y_predict = knn.predict(X_test)\n",
    "        \n",
    "    y_test = list(y_test['Original Label'])\n",
    "    accuracy_list.append((accuracy_score(y_test, y_predict)))\n",
    "    return(mean(accuracy_list))"
   ]
  },
  {
   "cell_type": "code",
   "execution_count": 32,
   "metadata": {},
   "outputs": [
    {
     "name": "stdout",
     "output_type": "stream",
     "text": [
      "The average accuracy in (DBSCAN) K-Fold KNN is 0.3333333333333333\n"
     ]
    }
   ],
   "source": [
    "print('The average accuracy in (DBSCAN) K-Fold KNN is',dbscan_kfold(principalDf,original_bin_))"
   ]
  },
  {
   "cell_type": "code",
   "execution_count": 33,
   "metadata": {},
   "outputs": [],
   "source": [
    "from sklearn.cluster import DBSCAN\n",
    "dbscan = DBSCAN(eps=1.26, min_samples=4)\n",
    "clusters = dbscan.fit_predict(principalDf)\n",
    "dbscan_labels = dbscan.labels_\n",
    "\n",
    "noise_points = [ i for i in range(len(dbscan_labels)) if dbscan_labels[i] == -1 ]\n",
    "cluster_0 = [ i for i in range(len(dbscan_labels)) if dbscan_labels[i] == 0 ]\n",
    "cluster_1 = [ i for i in range(len(dbscan_labels)) if dbscan_labels[i] == 1 ]\n",
    "cluster_2 = [ i for i in range(len(dbscan_labels)) if dbscan_labels[i] == 2 ]\n",
    "cluster_3 = [ i for i in range(len(dbscan_labels)) if dbscan_labels[i] == 3 ]\n",
    "\n",
    "merge_cluster = noise_points + cluster_0\n",
    "\n",
    "merged_cluster_data = principalDf.iloc[merge_cluster].reset_index().drop(columns=['index'])\n",
    "merged_cluster_orig_bin = original_bin_.iloc[merge_cluster].reset_index().drop(columns=['index'])\n",
    "\n",
    "cluster1_data = principalDf.iloc[cluster_1].reset_index().drop(columns=['index'])\n",
    "cluster1_dbscan_labels = pd.DataFrame(dbscan.labels_[cluster_1]).rename(columns={0:'DBSCAN-Label'})\n",
    "cluster1_orig_bin = original_bin_.iloc[cluster_1].reset_index().drop(columns=['index'])\n",
    "\n",
    "cluster2_data = principalDf.iloc[cluster_2].reset_index().drop(columns=['index'])\n",
    "cluster2_dbscan_labels = pd.DataFrame(dbscan.labels_[cluster_2]).rename(columns={0:'DBSCAN-Label'})\n",
    "cluster2_orig_bin = original_bin_.iloc[cluster_2].reset_index().drop(columns=['index'])\n",
    "\n",
    "cluster3_data = X_train.iloc[cluster_3].reset_index().drop(columns=['index'])\n",
    "cluster3_dbscan_labels = pd.DataFrame(dbscan.labels_[cluster_3]).rename(columns={0:'DBSCAN-Label'})\n",
    "cluster3_orig_bin = y_train.iloc[cluster_3].reset_index().drop(columns=['index'])\n",
    "        \n",
    "#KMeans on the merged noise points and cluster 0\n",
    "kmeans = KMeans(n_clusters= 4 , random_state=100).fit(merged_cluster_data)\n",
    "kmeans_labels_merged_cluster = pd.DataFrame(kmeans.labels_).rename(columns={0:'KMeans-Label'})\n",
    "\n",
    "reassigned_labels_merged_cluster = label_reassignment(kmeans_labels_merged_cluster,merged_cluster_orig_bin)\n",
    "reassigned_labels_cluster1 = label_reassignment(cluster1_dbscan_labels,cluster1_orig_bin)\n",
    "reassigned_labels_cluster2 = label_reassignment(cluster2_dbscan_labels,cluster2_orig_bin)\n",
    "reassigned_labels_cluster3 = label_reassignment(cluster3_dbscan_labels,cluster3_orig_bin)\n",
    "\n",
    "reassigned_labels_all = pd.concat([reassigned_labels_merged_cluster,reassigned_labels_cluster1,reassigned_labels_cluster2,reassigned_labels_cluster3]).reset_index().drop(columns=['index']).rename(columns={'KMeans Labels Reassigned':'DBSCAN Labels Reassigned'})\n",
    "data_all = pd.concat([merged_cluster_data,cluster1_data,cluster2_data,cluster3_data]).reset_index().drop(columns=['index'])"
   ]
  },
  {
   "cell_type": "code",
   "execution_count": 34,
   "metadata": {},
   "outputs": [
    {
     "data": {
      "text/plain": [
       "KNeighborsClassifier(algorithm='auto', leaf_size=30, metric='minkowski',\n",
       "                     metric_params=None, n_jobs=None, n_neighbors=35, p=2,\n",
       "                     weights='uniform')"
      ]
     },
     "execution_count": 34,
     "metadata": {},
     "output_type": "execute_result"
    }
   ],
   "source": [
    "X_train,y_train = data_all,reassigned_labels_all\n",
    "knn = KNeighborsClassifier(n_neighbors=35,metric='minkowski')\n",
    "knn.fit(X_train, y_train)"
   ]
  }
 ],
 "metadata": {
  "kernelspec": {
   "display_name": "Python 3",
   "language": "python",
   "name": "python3"
  },
  "language_info": {
   "codemirror_mode": {
    "name": "ipython",
    "version": 3
   },
   "file_extension": ".py",
   "mimetype": "text/x-python",
   "name": "python",
   "nbconvert_exporter": "python",
   "pygments_lexer": "ipython3",
   "version": "3.7.3"
  }
 },
 "nbformat": 4,
 "nbformat_minor": 2
}
