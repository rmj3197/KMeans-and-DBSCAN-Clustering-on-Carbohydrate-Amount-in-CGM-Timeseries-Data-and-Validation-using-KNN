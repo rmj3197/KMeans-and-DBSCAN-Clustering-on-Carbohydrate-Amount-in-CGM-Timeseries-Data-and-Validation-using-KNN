{
 "cells": [
  {
   "cell_type": "markdown",
   "metadata": {},
   "source": [
    "# CHANGE PATH !!!!!!!!HERE!!!!!!!!!!!"
   ]
  },
  {
   "cell_type": "code",
   "execution_count": 1,
   "metadata": {},
   "outputs": [],
   "source": [
    "path = 'proj3_test.csv'"
   ]
  },
  {
   "cell_type": "code",
   "execution_count": 2,
   "metadata": {},
   "outputs": [],
   "source": [
    "import pandas as pd\n",
    "import csv\n",
    "import numpy as np\n",
    "from collections import Counter \n",
    "import matplotlib.pyplot as plt\n",
    "import warnings\n",
    "warnings.filterwarnings('ignore')\n",
    "import io\n",
    "pd.set_option('display.max_columns', None)\n",
    "from statistics import mean\n",
    "from sklearn.model_selection import KFold\n",
    "from sklearn.neighbors import KNeighborsClassifier\n",
    "from sklearn.metrics import accuracy_score\n",
    "from sklearn.cluster import KMeans"
   ]
  },
  {
   "cell_type": "code",
   "execution_count": 3,
   "metadata": {},
   "outputs": [],
   "source": [
    "def file_read(filename):\n",
    "    f = open(filename)\n",
    "    csv_f = csv.reader(f)\n",
    "    data = []\n",
    "    for row in csv_f:\n",
    "        data.append(row)\n",
    "    return data"
   ]
  },
  {
   "cell_type": "code",
   "execution_count": 4,
   "metadata": {},
   "outputs": [],
   "source": [
    "def most_frequent(List): \n",
    "    counter = 0\n",
    "    num = List[0] \n",
    "    for i in List: \n",
    "        curr_frequency = List.count(i) \n",
    "        if(curr_frequency> counter): \n",
    "            counter = curr_frequency \n",
    "            num = i \n",
    "    return num "
   ]
  },
  {
   "cell_type": "code",
   "execution_count": 5,
   "metadata": {},
   "outputs": [],
   "source": [
    "from scipy.fftpack import fft, ifft\n",
    "def fft_and_peaks(df):\n",
    "#     df = df[0]    \n",
    "    fft_val=[]\n",
    "    fft_val.append(abs(fft(df))) \n",
    "    peak_val=[]\n",
    "    for z in range(len(fft_val)):\n",
    "        a = list(set(fft_val[z]))\n",
    "        a.sort()\n",
    "        a = a[::-1][1:5]\n",
    "        peak_val.append(a)\n",
    "    return(fft_val,peak_val)"
   ]
  },
  {
   "cell_type": "code",
   "execution_count": 6,
   "metadata": {},
   "outputs": [],
   "source": [
    "def velocity(data):\n",
    "#     data= data[0]\n",
    "    data = data.reset_index().drop(columns = 'index').T\n",
    "    mean = []\n",
    "    std =[]\n",
    "    median =[]\n",
    "    \n",
    "    interval = 10\n",
    "    for k in range(len(data)):\n",
    "        window_size = 4\n",
    "        velocity = []\n",
    "        row_data = data.iloc[k].values\n",
    "        row_length = len(row_data)\n",
    "        counter = 0\n",
    "        cgmvel = []\n",
    "        for i in range((len(row_data) - window_size)):\n",
    "            cgmvel.append(counter)\n",
    "            counter += 5\n",
    "            p = (row_data[i] - row_data[i + window_size])\n",
    "            vel = p / interval\n",
    "            velocity.append(vel)\n",
    "        mean.append(np.mean(velocity))\n",
    "        std.append(np.std(velocity))\n",
    "        median.append(np.median(velocity))\n",
    "    df = list(zip(mean, std, median))[0]\n",
    "    return df"
   ]
  },
  {
   "cell_type": "code",
   "execution_count": 7,
   "metadata": {},
   "outputs": [],
   "source": [
    "def min_max_glucose_level(df):\n",
    "    df = df\n",
    "    df = df[::-1]\n",
    "    min_val = df.iloc[5]\n",
    "    max_val = max(df.iloc[5:])\n",
    "    diff = max_val - min_val\n",
    "    return diff"
   ]
  },
  {
   "cell_type": "code",
   "execution_count": 8,
   "metadata": {},
   "outputs": [],
   "source": [
    "def full_width_at_half_maximum(df):\n",
    "    y=df\n",
    "    max_y = max(y)  # Find the maximum y value\n",
    "    xs = [x for x in range(len(y)) if y[x] > ((max(y)/2)+55)]\n",
    "    if(max(xs,default=1000)==1000):\n",
    "        width = 0\n",
    "    else:\n",
    "        width = max(xs) - min(xs)\n",
    "    return width"
   ]
  },
  {
   "cell_type": "code",
   "execution_count": 9,
   "metadata": {},
   "outputs": [],
   "source": [
    "def polyfit_coeffs(df):\n",
    "    coeff_list = []\n",
    "    y = df.to_numpy()\n",
    "    time = np.linspace(1,df.shape[0],df.shape[0])\n",
    "    coeff = np.polyfit(time,y,6)\n",
    "    coeff_list.append(coeff)\n",
    "    df1 = coeff_list[0]\n",
    "    return df1"
   ]
  },
  {
   "cell_type": "code",
   "execution_count": 10,
   "metadata": {},
   "outputs": [],
   "source": [
    "def autocorrelation(df):   \n",
    "    autocorr_lag_2=[]\n",
    "    autocorr_lag_3=[]\n",
    "    autocorr_lag_4=[]\n",
    "    autocorr_lag_5=[]\n",
    "    autocorr_lag_6=[]\n",
    "    autocorr_lag_7=[]\n",
    "    autocorr_lag_8=[]\n",
    "    autocorr_lag_9=[]\n",
    "    autocorr_lag_10=[]\n",
    "    autocorr_lag_11=[]\n",
    "    autocorr_lag_12=[]\n",
    "    autocorr_lag_13=[]\n",
    "    autocorr_lag_14=[]\n",
    "\n",
    "    auto_corr_2= df.autocorr(lag=2)\n",
    "    autocorr_lag_2.append(auto_corr_2)\n",
    "\n",
    "    auto_corr_3= df.autocorr(lag=3)\n",
    "    autocorr_lag_3.append(auto_corr_3)\n",
    "\n",
    "    auto_corr_4= df.autocorr(lag=4)\n",
    "    autocorr_lag_4.append(auto_corr_4)\n",
    "\n",
    "    auto_corr_5= df.autocorr(lag=5)\n",
    "    autocorr_lag_5.append(auto_corr_5)\n",
    "\n",
    "    auto_corr_6= df.autocorr(lag=6)\n",
    "    autocorr_lag_6.append(auto_corr_6)\n",
    "\n",
    "    auto_corr_7= df.autocorr(lag=7)\n",
    "    autocorr_lag_7.append(auto_corr_7)\n",
    "\n",
    "    auto_corr_8= df.autocorr(lag=8)\n",
    "    autocorr_lag_8.append(auto_corr_8)\n",
    "\n",
    "    auto_corr_9= df.autocorr(lag=9)\n",
    "    autocorr_lag_9.append(auto_corr_9)\n",
    "\n",
    "    auto_corr_10=df.autocorr(lag=10)\n",
    "    autocorr_lag_10.append(auto_corr_10)\n",
    "\n",
    "    auto_corr_11= df.autocorr(lag=11)\n",
    "    autocorr_lag_11.append(auto_corr_11)\n",
    "\n",
    "    auto_corr_12= df.autocorr(lag=12)\n",
    "    autocorr_lag_12.append(auto_corr_12)\n",
    "\n",
    "    auto_corr_13= df.autocorr(lag=13)\n",
    "    autocorr_lag_13.append(auto_corr_13)\n",
    "\n",
    "    auto_corr_14= df.autocorr(lag=14)\n",
    "    autocorr_lag_14.append(auto_corr_14)\n",
    "\n",
    "    df1 = list(zip(autocorr_lag_2, autocorr_lag_3,autocorr_lag_4,autocorr_lag_5,autocorr_lag_6,autocorr_lag_7,autocorr_lag_8,autocorr_lag_9,autocorr_lag_10,autocorr_lag_11,autocorr_lag_12,autocorr_lag_13,autocorr_lag_14))[0]\n",
    "    return (df1)"
   ]
  },
  {
   "cell_type": "code",
   "execution_count": 11,
   "metadata": {},
   "outputs": [],
   "source": [
    "def calculate_features(data):   \n",
    "    fft_peak_val =[]\n",
    "    cgm_vel = []\n",
    "    index_list = []\n",
    "    amplitude_list =[]\n",
    "    width_list = []\n",
    "    polyfit_coeff=[]\n",
    "    auto_corr=[]\n",
    "\n",
    "    for i in range(len(data)):\n",
    "        intermediate = pd.DataFrame(data[i]).reset_index().drop(columns = 'index')\n",
    "        each_row = pd.to_numeric(intermediate[0],errors='coerce').interpolate().dropna().reset_index().drop(columns='index')[0]\n",
    "        \n",
    "        if(len(each_row)>=15):\n",
    "            ampl = min_max_glucose_level(each_row)\n",
    "            amplitude_list.append(ampl)\n",
    "            \n",
    "            x,y = fft_and_peaks(each_row)\n",
    "            fft_peak_val.append(y[0])\n",
    "            \n",
    "            v = velocity(each_row)\n",
    "            cgm_vel.append(v)\n",
    "            \n",
    "            width = full_width_at_half_maximum(each_row)\n",
    "            width_list.append(width)\n",
    "            \n",
    "            p = polyfit_coeffs(each_row)\n",
    "            polyfit_coeff.append(p)\n",
    "            \n",
    "            acr = autocorrelation(each_row)\n",
    "            auto_corr.append(acr)\n",
    "            \n",
    "        elif(len(each_row)<10):\n",
    "            index_list.append(i)\n",
    "\n",
    "    peak_val = pd.DataFrame(list(fft_peak_val),columns = ['Peak 2','Peak 3','Peak 4','Peak 5'])\n",
    "    cgm_vel_val = pd.DataFrame(cgm_vel,columns=['vel_Mean','vel_STD','vel_Median'])\n",
    "    ampl_val = pd.DataFrame(amplitude_list,columns=['Min_Max Diff'])\n",
    "    width_val = pd.DataFrame(width_list,columns=['FWHM'])\n",
    "    polyfit_val = pd.DataFrame(polyfit_coeff,columns=['coeff1','coeff2','coeff3','coeff4','coeff5','coeff6','coeff7'])\n",
    "    autocorr_val = pd.DataFrame(auto_corr,columns=['autocorr_lag_2', 'autocorr_lag_3','autocorr_lag_4','autocorr_lag_5','autocorr_lag_6','autocorr_lag_7','autocorr_lag_8','autocorr_lag_9','autocorr_lag_10','autocorr_lag_11','autocorr_lag_12','autocorr_lag_13','autocorr_lag_14']) \n",
    "    \n",
    "    dataset = pd.concat([cgm_vel_val,ampl_val,width_val,peak_val,polyfit_val],axis=1).fillna(0)\n",
    "    return(dataset,index_list)"
   ]
  },
  {
   "cell_type": "markdown",
   "metadata": {},
   "source": [
    "# Reading Meal Data and Calculating the features"
   ]
  },
  {
   "cell_type": "code",
   "execution_count": 12,
   "metadata": {},
   "outputs": [],
   "source": [
    "meal_pat = file_read(path)\n",
    "features_meal_pat,indices = calculate_features(meal_pat)"
   ]
  },
  {
   "cell_type": "code",
   "execution_count": 13,
   "metadata": {},
   "outputs": [],
   "source": [
    "from sklearn.decomposition import PCA\n",
    "from sklearn.preprocessing import StandardScaler\n",
    "from scipy import stats\n",
    "feature_matrix = StandardScaler().fit_transform(features_meal_pat)\n",
    "pca = PCA(n_components=5)\n",
    "principalComponents = pca.fit_transform(feature_matrix)\n",
    "principalDf = pd.DataFrame(data = principalComponents, columns = ['principal component 1', 'principal component 2','principal component 3','principal component 4','principal component 5'])"
   ]
  },
  {
   "cell_type": "code",
   "execution_count": 14,
   "metadata": {},
   "outputs": [],
   "source": [
    "output_matrix = pd.DataFrame()"
   ]
  },
  {
   "cell_type": "code",
   "execution_count": 15,
   "metadata": {},
   "outputs": [],
   "source": [
    "from joblib import dump, load\n",
    "with open('KMeans_KNN.pickle', 'rb') as pre_trained_kmeans:\n",
    "    pickle_file_kmeans = load(pre_trained_kmeans)\n",
    "    predict_kmeans = pickle_file_kmeans.predict(principalDf)    \n",
    "    pre_trained_kmeans.close()"
   ]
  },
  {
   "cell_type": "code",
   "execution_count": 16,
   "metadata": {},
   "outputs": [],
   "source": [
    "output_matrix['KMeans']=predict_kmeans"
   ]
  },
  {
   "cell_type": "code",
   "execution_count": 17,
   "metadata": {},
   "outputs": [],
   "source": [
    "from joblib import dump, load\n",
    "with open('DBSCAN_KNN.pickle', 'rb') as pre_trained_dbscan:\n",
    "    pickle_file_dbscan = load(pre_trained_dbscan)\n",
    "    predict_dbscan = pickle_file_dbscan.predict(principalDf)    \n",
    "    pre_trained_dbscan.close()"
   ]
  },
  {
   "cell_type": "code",
   "execution_count": 18,
   "metadata": {},
   "outputs": [],
   "source": [
    "output_matrix['DBSCAN']=predict_dbscan"
   ]
  },
  {
   "cell_type": "code",
   "execution_count": 21,
   "metadata": {},
   "outputs": [],
   "source": [
    "output_matrix[['DBSCAN','KMeans']].to_csv('output_matrix.csv',index=False,header=None)"
   ]
  },
  {
   "cell_type": "code",
   "execution_count": null,
   "metadata": {},
   "outputs": [],
   "source": []
  }
 ],
 "metadata": {
  "kernelspec": {
   "display_name": "Python 3",
   "language": "python",
   "name": "python3"
  },
  "language_info": {
   "codemirror_mode": {
    "name": "ipython",
    "version": 3
   },
   "file_extension": ".py",
   "mimetype": "text/x-python",
   "name": "python",
   "nbconvert_exporter": "python",
   "pygments_lexer": "ipython3",
   "version": "3.7.3"
  }
 },
 "nbformat": 4,
 "nbformat_minor": 2
}
